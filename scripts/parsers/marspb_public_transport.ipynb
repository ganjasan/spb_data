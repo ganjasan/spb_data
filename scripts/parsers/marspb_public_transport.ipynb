{
 "cells": [
  {
   "cell_type": "code",
   "execution_count": 289,
   "metadata": {},
   "outputs": [],
   "source": [
    "import pandas as pd\n",
    "import requests\n",
    "from bs4 import BeautifulSoup\n",
    "from lxml import html\n",
    "import re\n",
    "import json\n",
    "import time"
   ]
  },
  {
   "cell_type": "code",
   "execution_count": 2,
   "metadata": {
    "collapsed": true
   },
   "outputs": [],
   "source": [
    "#структура сайта\n",
    "main_url = \"http://marspb.ru\"\n",
    "types = ['tram', 'trolleybus', 'bus', 'marshrutka']"
   ]
  },
  {
   "cell_type": "code",
   "execution_count": 214,
   "metadata": {},
   "outputs": [],
   "source": [
    "#scrapper\n",
    "def getRoutsHrefFromPage(page_href):\n",
    "    url = main_url + page_href\n",
    "    \n",
    "    r = requests.get(url)\n",
    "    text = r.text\n",
    "    soup = BeautifulSoup(text, \"lxml\")\n",
    "    \n",
    "    rout_items = soup.find_all('div', {'class': 'route-item'})\n",
    "    hrefs = list(map(lambda rout: rout.find('a').get('href'), rout_items))\n",
    "    numbers = list(map(lambda rout: rout.find('a').text, rout_items))\n",
    "    \n",
    "    routs = []\n",
    "    for i in range(0, len(rout_items)):\n",
    "        rout = {'href':hrefs[i], 'number': numbers[i]}\n",
    "        routs.append(rout)\n",
    "        \n",
    "    return routs\n",
    "\n",
    "def getRoutsHrefs():\n",
    "    routs = []\n",
    "    \n",
    "    for mar_type in types:\n",
    "        href = \"/\" + mar_type + \"/\"\n",
    "         \n",
    "        routs_part = getRoutsHrefFromPage(href)\n",
    "        wtf = list(map(lambda rout: rout.update({'type':mar_type}), routs_part))\n",
    "        \n",
    "        routs.extend(routs_part)\n",
    "        \n",
    "        #Необходимо обходить страницы\n",
    "        url = main_url + href\n",
    "        r = requests.get(url)\n",
    "        text = r.text\n",
    "        soup = BeautifulSoup(text, \"lxml\")\n",
    "        \n",
    "        page_wrapper = soup.find('div', {'class': 'pager-wrapper'})\n",
    "        if page_wrapper:\n",
    "            pages_href = page_wrapper.find_all('a')\n",
    "            pages = list(map(lambda x : x.get('href'), pages_href))\n",
    "            \n",
    "            for page in pages:\n",
    "                routs_part = getRoutsHrefFromPage(page)\n",
    "                wtf = list(map(lambda rout: rout.update({'type':mar_type}), routs_part))\n",
    "                routs.extend(routs_part)\n",
    "    \n",
    "    return(routs)\n",
    "\n",
    "def getRout(rout):\n",
    "    url = main_url + rout['href']\n",
    "    r = requests.get(url)\n",
    "    text = r.text\n",
    "    soup = BeautifulSoup(text, 'lxml')\n",
    "    \n",
    "    rout_text = soup.find_all('script')[-1].text\n",
    "    rout_text = re.sub(\"^\\s+|\\n|\\r|\\t|\\s+$\", '', rout_text)\n",
    "    rout_text = re.sub('.*Route: ', '', rout_text)\n",
    "    rout_text = re.sub(',MapIconsDirectory.*', '', rout_text)\n",
    "    \n",
    "    rout_dict = json.loads(rout_text)\n",
    "    rout_pf = rout_dict['pf'] if 'pf' in rout_dict else {}\n",
    "    rout_pb = rout_dict['pb'] if 'pb' in rout_dict else {}\n",
    "    \n",
    "    rout.update({'pf':rout_pf, 'pb': rout_pb})\n",
    "    \n",
    "    return rout\n",
    "    \n",
    "\n",
    "def getAllRouts():    \n",
    "    routs = getRoutsHrefs()\n",
    "    for rout in routs:\n",
    "        getRout(rout)\n",
    "        #time.sleep(1)\n",
    "        \n",
    "        \n",
    "    return routs"
   ]
  },
  {
   "cell_type": "code",
   "execution_count": 279,
   "metadata": {},
   "outputs": [],
   "source": [
    "routs = getAllRouts()"
   ]
  },
  {
   "cell_type": "code",
   "execution_count": 282,
   "metadata": {
    "collapsed": true
   },
   "outputs": [],
   "source": [
    "rout_pf = list(map(lambda r: {\"href\":r[\"href\"], \"number\": r[\"number\"], \"direction\": \"f\", \"type\": r['type'], \"rout\": r['pf']}, routs))\n",
    "rout_pb = list(map(lambda r: {\"href\":r[\"href\"], \"number\": r[\"number\"], \"direction\": \"b\", \"type\": r['type'], \"rout\": r['pb']}, routs))"
   ]
  },
  {
   "cell_type": "code",
   "execution_count": 283,
   "metadata": {},
   "outputs": [],
   "source": [
    "routs = []\n",
    "routs.extend(rout_pd)\n",
    "routs.extend(rout_pb)"
   ]
  },
  {
   "cell_type": "code",
   "execution_count": 284,
   "metadata": {},
   "outputs": [],
   "source": [
    "#convert to geojson\n",
    "geojson = {\n",
    "    \"type\": \"FeatureCollection\",\n",
    "    \n",
    "    \"features\": [\n",
    "    {\n",
    "        \"type\": \"Feature\",\n",
    "        \"properties\": {\n",
    "            \"href\" : r[\"href\"],\n",
    "            \"number\" : r[\"number\"],\n",
    "            \"direction\": r[\"direction\"],\n",
    "            \"type\": r[\"type\"]\n",
    "        },\n",
    "        \"geometry\" : {\n",
    "            \"type\": \"LineString\",\n",
    "            \"coordinates\": [[rc[\"lng\"], rc[\"lat\"]] for rc in r['rout']],\n",
    "            },\n",
    "        \n",
    "     } for r in routs]\n",
    "}"
   ]
  },
  {
   "cell_type": "code",
   "execution_count": 291,
   "metadata": {},
   "outputs": [],
   "source": [
    "output = open(\"public_transport_routs_2.geojson\", 'w')\n",
    "json.dump(geojson, output)"
   ]
  },
  {
   "cell_type": "code",
   "execution_count": 288,
   "metadata": {},
   "outputs": [
    {
     "data": {
      "text/plain": [
       "{'geometry': {'coordinates': [[30.379977, 59.811255],\n",
       "   [30.382656, 59.809641],\n",
       "   [30.384505, 59.808628],\n",
       "   [30.384932, 59.808252],\n",
       "   [30.386586, 59.805248],\n",
       "   [30.387121, 59.804315],\n",
       "   [30.388034, 59.8045],\n",
       "   [30.387612, 59.805192],\n",
       "   [30.387256, 59.805886],\n",
       "   [30.387061, 59.806395],\n",
       "   [30.387039, 59.807304],\n",
       "   [30.385407, 59.810575],\n",
       "   [30.385028, 59.810829],\n",
       "   [30.384357, 59.810886],\n",
       "   [30.383495, 59.810693],\n",
       "   [30.382903, 59.810715],\n",
       "   [30.38176, 59.81165],\n",
       "   [30.380973, 59.812123],\n",
       "   [30.380209, 59.812456],\n",
       "   [30.376094, 59.814012],\n",
       "   [30.374576, 59.814681],\n",
       "   [30.370118, 59.817112],\n",
       "   [30.366079, 59.819224],\n",
       "   [30.358785, 59.823151],\n",
       "   [30.348419, 59.828728],\n",
       "   [30.349157, 59.829092],\n",
       "   [30.351532, 59.830203],\n",
       "   [30.351148, 59.831474],\n",
       "   [30.3509, 59.831933],\n",
       "   [30.349423, 59.832753]],\n",
       "  'type': 'LineString'},\n",
       " 'properties': {'direction': 'b',\n",
       "  'href': '/marshrutka/k479',\n",
       "  'number': 'К479',\n",
       "  'type': 'marshrutka'},\n",
       " 'type': 'Feature'}"
      ]
     },
     "execution_count": 288,
     "metadata": {},
     "output_type": "execute_result"
    }
   ],
   "source": [
    "geojson['features'][-1]"
   ]
  },
  {
   "cell_type": "code",
   "execution_count": null,
   "metadata": {
    "collapsed": true
   },
   "outputs": [],
   "source": []
  }
 ],
 "metadata": {
  "kernelspec": {
   "display_name": "Python 3",
   "language": "python",
   "name": "python3"
  },
  "language_info": {
   "codemirror_mode": {
    "name": "ipython",
    "version": 3
   },
   "file_extension": ".py",
   "mimetype": "text/x-python",
   "name": "python",
   "nbconvert_exporter": "python",
   "pygments_lexer": "ipython3",
   "version": "3.6.1"
  }
 },
 "nbformat": 4,
 "nbformat_minor": 2
}
