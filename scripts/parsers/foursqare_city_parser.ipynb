{
 "cells": [
  {
   "cell_type": "code",
   "execution_count": 1,
   "metadata": {
    "collapsed": true
   },
   "outputs": [],
   "source": [
    "#импорт\n",
    "import pandas as pd\n",
    "import requests\n",
    "import json\n",
    "import time\n",
    "import math\n",
    "import vk\n",
    "import collections\n",
    "import os\n",
    "from io import open"
   ]
  },
  {
   "cell_type": "code",
   "execution_count": 6,
   "metadata": {
    "collapsed": true
   },
   "outputs": [],
   "source": [
    "#подключение api\n",
    "import foursquare\n",
    "\n",
    "client_id = '2VRQYSGPD3F1PVQK0MPQI4NZVEJOEXJJMYYFCGHXKIF14FSG'\n",
    "client_secret = 'PDAGZIQBVJYW2Q03QDMGMQW1XXBOFUHSYOWXINAOQY5N2QKT'\n",
    "access_token = ''\n",
    "\n",
    "api = foursquare.Foursquare(client_id=client_id, client_secret=client_secret)"
   ]
  },
  {
   "cell_type": "code",
   "execution_count": 3,
   "metadata": {
    "collapsed": true
   },
   "outputs": [],
   "source": [
    "#логер\n",
    "\n",
    "def log_progress(sequence, every=None, size=None):\n",
    "    from ipywidgets import IntProgress, HTML, VBox\n",
    "    from IPython.display import display\n",
    "    \n",
    "    is_iterator = False\n",
    "    if size is None:\n",
    "        try:\n",
    "            size = len(sequence)\n",
    "        except TypeError:\n",
    "            is_iterator = True\n",
    "    if size is not None:\n",
    "        if every is None:\n",
    "            if size <= 200:\n",
    "                every = 1\n",
    "            else:\n",
    "                every = size / 200     # every 0.5%\n",
    "    else:\n",
    "        assert every is not None, 'sequence is iterator, set every'\n",
    "\n",
    "    if is_iterator:\n",
    "        progress = IntProgress(min=0, max=1, value=1)\n",
    "        progress.bar_style = 'info'\n",
    "    else:\n",
    "        progress = IntProgress(min=0, max=size, value=0)\n",
    "    label = HTML()\n",
    "    box = VBox(children=[label, progress])\n",
    "    display(box)\n",
    "    \n",
    "    index = 0\n",
    "    try:\n",
    "        for index, record in enumerate(sequence, 1):\n",
    "            \n",
    "            if index == 1 or index % every == 0:\n",
    "                if is_iterator:\n",
    "                    label.value = '{index} / ?'.format(index=index)\n",
    "                else:\n",
    "                    progress.value = index\n",
    "                    label.value = u'{index} / {size}'.format(\n",
    "                        index=index,\n",
    "                        size=size\n",
    "                    )\n",
    "            yield record\n",
    "    except:\n",
    "        progress.bar_style = 'danger'\n",
    "        raise\n",
    "    else:\n",
    "        progress.bar_style = 'success'\n",
    "        progress.value = index\n",
    "        label.value = str(index or '?')"
   ]
  },
  {
   "cell_type": "code",
   "execution_count": 4,
   "metadata": {
    "collapsed": true
   },
   "outputs": [],
   "source": [
    "#задать сетку\n",
    "\n",
    "bounds = {'lower':{'lat': 59.808311, 'lng': 30.135219}, 'upper':{'lat': 60.087617, 'lng': 30.526297}} \n",
    "radius = 250\n",
    "\n",
    "def get_circle_centers(lower, upper, radius):\n",
    "    \"\"\"\n",
    "    cover the search area with circles for radar search\n",
    "    http://stackoverflow.com/questions/7477003/calculating-new-longtitude-latitude-from-old-n-meters\n",
    "    :param lower: lower bound of area (westmost + southmost)\n",
    "    :param upper: upper bound of area (eastmost + northmost)\n",
    "    :param radius: specified radius, adapt for high density areas\n",
    "    :return: list of circle centers that cover the area between lower/upper\n",
    "    \"\"\"\n",
    "    r, coords = 6378, list()\n",
    "    while lower[1] < upper[1]:\n",
    "        tmp = lower[0]\n",
    "\n",
    "        while tmp < upper[0]:\n",
    "            coords.append((tmp, lower[1]))\n",
    "            tmp += (0.25 / r) * (radius / math.pi)\n",
    "        lower[1] += (0.25 / r) * (radius / math.pi) / math.cos(lower[00] * math.pi / radius)\n",
    "\n",
    "    return coords\n",
    "\n",
    "\n",
    "circles = get_circle_centers([bounds[\"lower\"][\"lat\"], bounds[\"lower\"][\"lng\"]],  # southwest\n",
    "                                       [bounds[\"upper\"][\"lat\"], bounds[\"upper\"][\"lng\"]],  # northeast\n",
    "                                       radius)\n"
   ]
  },
  {
   "cell_type": "code",
   "execution_count": 12,
   "metadata": {},
   "outputs": [
    {
     "data": {
      "application/vnd.jupyter.widget-view+json": {
       "model_id": "9abca1cd88cb4928963402ba75b8d71e",
       "version_major": 2,
       "version_minor": 0
      },
      "text/html": [
       "<p>Failed to display Jupyter Widget of type <code>VBox</code>.</p>\n",
       "<p>\n",
       "  If you're reading this message in Jupyter Notebook or JupyterLab, it may mean\n",
       "  that the widgets JavaScript is still loading. If this message persists, it\n",
       "  likely means that the widgets JavaScript library is either not installed or\n",
       "  not enabled. See the <a href=\"https://ipywidgets.readthedocs.io/en/stable/user_install.html\">Jupyter\n",
       "  Widgets Documentation</a> for setup instructions.\n",
       "</p>\n",
       "<p>\n",
       "  If you're reading this message in another notebook frontend (for example, a static\n",
       "  rendering on GitHub or <a href=\"https://nbviewer.jupyter.org/\">NBViewer</a>),\n",
       "  it may mean that your frontend doesn't currently support widgets.\n",
       "</p>\n"
      ],
      "text/plain": [
       "VBox(children=(HTML(value=''), IntProgress(value=0, max=8280)))"
      ]
     },
     "metadata": {},
     "output_type": "display_data"
    },
    {
     "name": "stderr",
     "output_type": "stream",
     "text": [
      "Error connecting with foursquare API: HTTPSConnectionPool(host='api.foursquare.com', port=443): Max retries exceeded with url: /v2/venues/search?ll=59.8738145631258,30.13948830089965&limit=50&v=20160912&client_id=2VRQYSGPD3F1PVQK0MPQI4NZVEJOEXJJMYYFCGHXKIF14FSG&client_secret=PDAGZIQBVJYW2Q03QDMGMQW1XXBOFUHSYOWXINAOQY5N2QKT (Caused by NewConnectionError('<urllib3.connection.VerifiedHTTPSConnection object at 0x000001E7A5638668>: Failed to establish a new connection: [Errno 11001] getaddrinfo failed',))\n",
      "Error connecting with foursquare API: HTTPSConnectionPool(host='api.foursquare.com', port=443): Max retries exceeded with url: /v2/venues/search?ll=59.8738145631258,30.13948830089965&limit=50&v=20160912&client_id=2VRQYSGPD3F1PVQK0MPQI4NZVEJOEXJJMYYFCGHXKIF14FSG&client_secret=PDAGZIQBVJYW2Q03QDMGMQW1XXBOFUHSYOWXINAOQY5N2QKT (Caused by NewConnectionError('<urllib3.connection.VerifiedHTTPSConnection object at 0x000001E7A56381D0>: Failed to establish a new connection: [Errno 11001] getaddrinfo failed',))\n",
      "Error connecting with foursquare API: HTTPSConnectionPool(host='api.foursquare.com', port=443): Max retries exceeded with url: /v2/venues/search?ll=60.017298558544205,30.212066416193714&limit=50&v=20160912&client_id=2VRQYSGPD3F1PVQK0MPQI4NZVEJOEXJJMYYFCGHXKIF14FSG&client_secret=PDAGZIQBVJYW2Q03QDMGMQW1XXBOFUHSYOWXINAOQY5N2QKT (Caused by NewConnectionError('<urllib3.connection.VerifiedHTTPSConnection object at 0x000001E7A55FB128>: Failed to establish a new connection: [Errno 11001] getaddrinfo failed',))\n",
      "Error connecting with foursquare API: HTTPSConnectionPool(host='api.foursquare.com', port=443): Max retries exceeded with url: /v2/venues/search?ll=60.02665621041932,30.416992859376954&limit=50&v=20160912&client_id=2VRQYSGPD3F1PVQK0MPQI4NZVEJOEXJJMYYFCGHXKIF14FSG&client_secret=PDAGZIQBVJYW2Q03QDMGMQW1XXBOFUHSYOWXINAOQY5N2QKT (Caused by NewConnectionError('<urllib3.connection.VerifiedHTTPSConnection object at 0x000001E7A54EEC88>: Failed to establish a new connection: [Errno 11001] getaddrinfo failed',))\n"
     ]
    }
   ],
   "source": [
    "#search vemues in coord\n",
    "from itertools import chain\n",
    "\n",
    "def api_req_search_venues(coord):\n",
    "    query = {\n",
    "        'll': '%s,%s' % coord,\n",
    "        'limit': 50,\n",
    "    }\n",
    "\n",
    "    res = api.venues.search(params=query)\n",
    "    venues = res['venues']\n",
    "    return venues\n",
    "\n",
    "def cats(cs):\n",
    "    return list(map(lambda c: c['name'], cs))\n",
    "\n",
    "def request_to_list(reqs):\n",
    "    venues = list(chain.from_iterable(api_reqs))\n",
    "    venues = dict(map(lambda v: (v['id'], v), venues))\n",
    "    venues = list(venues.values())\n",
    "    venues = list(map(\n",
    "        lambda v: {\n",
    "            'id':v['id'],\n",
    "            'name':v['name'],\n",
    "            'lat': v['location']['lat'],\n",
    "            'lng': v['location']['lng'],\n",
    "            'checkinsCount':v['stats']['checkinsCount'],\n",
    "            'usersCount': v['stats']['usersCount'],\n",
    "            'categories': cats(v['categories']),\n",
    "        },\n",
    "        venues\n",
    "    ))\n",
    "    \n",
    "    return venues\n",
    "\n",
    "\n",
    "def write_to_file(filename, requests):\n",
    "    with open(filename, 'a+') as fout:\n",
    "        venues = request_to_list(requests)\n",
    "        \n",
    "        for venue in venues:\n",
    "            json.dump(venue, fout)\n",
    "            fout.write(os.linesep)\n",
    "            \n",
    "            \n",
    "            \n",
    "\n",
    "api_reqs = []\n",
    "counter = 0\n",
    "for coord in log_progress(circles, 10):\n",
    "    if counter % 100 == 0:\n",
    "        write_to_file('foursqare_venues', api_reqs)\n",
    "        api_reqs = []\n",
    "        \n",
    "    api_reqs.append(api_req_search_venues(coord))\n",
    "    \n",
    "write_to_file('foursqare_venues', api_reqs)"
   ]
  },
  {
   "cell_type": "code",
   "execution_count": 23,
   "metadata": {
    "collapsed": true
   },
   "outputs": [],
   "source": [
    "#file to csv\n",
    "with open('foursqare_venues', 'rb') as f:\n",
    "    my_list = [json.loads(line) for line in f]\n",
    "    \n",
    "venues = pd.DataFrame(my_list)\n",
    "venues = venues.drop_duplicates(\"id\")\n",
    "\n",
    "venues.to_csv('foursqare_venues.csv')"
   ]
  },
  {
   "cell_type": "code",
   "execution_count": 2,
   "metadata": {},
   "outputs": [
    {
     "name": "stderr",
     "output_type": "stream",
     "text": [
      "C:\\Users\\Artem\\Anaconda3\\lib\\site-packages\\IPython\\core\\interactiveshell.py:2717: DtypeWarning: Columns (1) have mixed types. Specify dtype option on import or set low_memory=False.\n",
      "  interactivity=interactivity, compiler=compiler, result=result)\n"
     ]
    }
   ],
   "source": [
    "#read from csv\n",
    "venues = pd.read_csv('foursqare_venues.csv')"
   ]
  },
  {
   "cell_type": "code",
   "execution_count": null,
   "metadata": {},
   "outputs": [],
   "source": [
    "#get main venues category\n",
    "categories = api.venues.categories()\n",
    "\n",
    "from anytree import Node, RenderTree, PostOrderIter\n",
    "\n",
    "def addCatagoriesToTree(categories_list, node):\n",
    "    for categorie in categories_list:\n",
    "        categorie_node = Node(categorie['name'], node)\n",
    "        addCatagoriesToTree(categorie['categories'], categorie_node)\n",
    "        \n",
    "def cat_node_list(categorie):\n",
    "    node = Node(categorie['name'])\n",
    "    addCatagoriesToTree(categorie['categories'], node)\n",
    "    return node\n",
    "\n",
    "def getMainCategorie(tree, node_name):\n",
    "    if node_name != None or node_name != \"\":\n",
    "        for node in PostOrderIter(tree):\n",
    "            if node.name == node_name:\n",
    "                return node.path[1]\n",
    "\n",
    "root = Node('root')\n",
    "addCatagoriesToTree(categories['categories'], root)\n",
    "\n",
    "venues['main_categorie'] = venues.categories.apply(lambda c: \"\" if getMainCategorie(root, c) is None else getMainCategorie(root,c).name)\n",
    "\n"
   ]
  },
  {
   "cell_type": "code",
   "execution_count": 11,
   "metadata": {},
   "outputs": [
    {
     "data": {
      "text/html": [
       "<div>\n",
       "<style>\n",
       "    .dataframe thead tr:only-child th {\n",
       "        text-align: right;\n",
       "    }\n",
       "\n",
       "    .dataframe thead th {\n",
       "        text-align: left;\n",
       "    }\n",
       "\n",
       "    .dataframe tbody tr th {\n",
       "        vertical-align: top;\n",
       "    }\n",
       "</style>\n",
       "<table border=\"1\" class=\"dataframe\">\n",
       "  <thead>\n",
       "    <tr style=\"text-align: right;\">\n",
       "      <th></th>\n",
       "      <th>Unnamed: 0</th>\n",
       "      <th>Unnamed: 0.1</th>\n",
       "      <th>categories</th>\n",
       "      <th>checkinsCount</th>\n",
       "      <th>id</th>\n",
       "      <th>lat</th>\n",
       "      <th>lng</th>\n",
       "      <th>name</th>\n",
       "      <th>usersCount</th>\n",
       "    </tr>\n",
       "  </thead>\n",
       "  <tbody>\n",
       "    <tr>\n",
       "      <th>0</th>\n",
       "      <td>0</td>\n",
       "      <td>0</td>\n",
       "      <td>['Auto Dealership']</td>\n",
       "      <td>277.0</td>\n",
       "      <td>57613680498e715ad5a8965f</td>\n",
       "      <td>59.808649</td>\n",
       "      <td>30.165717</td>\n",
       "      <td>Вагнер премиум юг (Мерседес)</td>\n",
       "      <td>125.0</td>\n",
       "    </tr>\n",
       "    <tr>\n",
       "      <th>1</th>\n",
       "      <td>1</td>\n",
       "      <td>1</td>\n",
       "      <td>['Bridge']</td>\n",
       "      <td>3739.0</td>\n",
       "      <td>4fbb1ee6e4b0ffe177c3094d</td>\n",
       "      <td>59.802435</td>\n",
       "      <td>30.168832</td>\n",
       "      <td>Виадук на Таллинском шоссе</td>\n",
       "      <td>2021.0</td>\n",
       "    </tr>\n",
       "    <tr>\n",
       "      <th>2</th>\n",
       "      <td>2</td>\n",
       "      <td>2</td>\n",
       "      <td>['Factory']</td>\n",
       "      <td>115.0</td>\n",
       "      <td>50cac9d0e4b054c06e8e6c1b</td>\n",
       "      <td>59.807105</td>\n",
       "      <td>30.136798</td>\n",
       "      <td>ЗАО \"ОКС 01\"</td>\n",
       "      <td>15.0</td>\n",
       "    </tr>\n",
       "    <tr>\n",
       "      <th>3</th>\n",
       "      <td>3</td>\n",
       "      <td>3</td>\n",
       "      <td>['Factory']</td>\n",
       "      <td>118.0</td>\n",
       "      <td>4eba2e619911cd1426aa69d3</td>\n",
       "      <td>59.807103</td>\n",
       "      <td>30.136760</td>\n",
       "      <td>ЗАО \"Пластком\"</td>\n",
       "      <td>16.0</td>\n",
       "    </tr>\n",
       "    <tr>\n",
       "      <th>4</th>\n",
       "      <td>4</td>\n",
       "      <td>4</td>\n",
       "      <td>['Warehouse']</td>\n",
       "      <td>5.0</td>\n",
       "      <td>54477684498ef2d39d67e1f7</td>\n",
       "      <td>59.809408</td>\n",
       "      <td>30.134302</td>\n",
       "      <td>база орион</td>\n",
       "      <td>2.0</td>\n",
       "    </tr>\n",
       "  </tbody>\n",
       "</table>\n",
       "</div>"
      ],
      "text/plain": [
       "   Unnamed: 0 Unnamed: 0.1           categories  checkinsCount  \\\n",
       "0           0            0  ['Auto Dealership']          277.0   \n",
       "1           1            1           ['Bridge']         3739.0   \n",
       "2           2            2          ['Factory']          115.0   \n",
       "3           3            3          ['Factory']          118.0   \n",
       "4           4            4        ['Warehouse']            5.0   \n",
       "\n",
       "                         id        lat        lng  \\\n",
       "0  57613680498e715ad5a8965f  59.808649  30.165717   \n",
       "1  4fbb1ee6e4b0ffe177c3094d  59.802435  30.168832   \n",
       "2  50cac9d0e4b054c06e8e6c1b  59.807105  30.136798   \n",
       "3  4eba2e619911cd1426aa69d3  59.807103  30.136760   \n",
       "4  54477684498ef2d39d67e1f7  59.809408  30.134302   \n",
       "\n",
       "                           name  usersCount  \n",
       "0  Вагнер премиум юг (Мерседес)       125.0  \n",
       "1    Виадук на Таллинском шоссе      2021.0  \n",
       "2                  ЗАО \"ОКС 01\"        15.0  \n",
       "3                ЗАО \"Пластком\"        16.0  \n",
       "4                    база орион         2.0  "
      ]
     },
     "execution_count": 11,
     "metadata": {},
     "output_type": "execute_result"
    }
   ],
   "source": [
    "venues.head()"
   ]
  },
  {
   "cell_type": "code",
   "execution_count": 13,
   "metadata": {},
   "outputs": [
    {
     "data": {
      "text/plain": [
       "'Shop & Service'"
      ]
     },
     "execution_count": 13,
     "metadata": {},
     "output_type": "execute_result"
    }
   ],
   "source": [
    "getMainCategorie(root, 'Auto Dealership').name"
   ]
  },
  {
   "cell_type": "code",
   "execution_count": null,
   "metadata": {
    "collapsed": true
   },
   "outputs": [],
   "source": []
  }
 ],
 "metadata": {
  "kernelspec": {
   "display_name": "Python 3",
   "language": "python",
   "name": "python3"
  },
  "language_info": {
   "codemirror_mode": {
    "name": "ipython",
    "version": 3
   },
   "file_extension": ".py",
   "mimetype": "text/x-python",
   "name": "python",
   "nbconvert_exporter": "python",
   "pygments_lexer": "ipython3",
   "version": "3.6.1"
  }
 },
 "nbformat": 4,
 "nbformat_minor": 2
}
